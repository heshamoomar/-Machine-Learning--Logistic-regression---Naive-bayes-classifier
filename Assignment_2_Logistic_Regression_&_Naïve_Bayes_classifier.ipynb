{
  "nbformat": 4,
  "nbformat_minor": 0,
  "metadata": {
    "colab": {
      "provenance": []
    },
    "kernelspec": {
      "name": "python3",
      "display_name": "Python 3"
    },
    "language_info": {
      "name": "python"
    }
  },
  "cells": [
    {
      "cell_type": "code",
      "execution_count": 219,
      "metadata": {
        "id": "7yDJhSUCuPDp"
      },
      "outputs": [],
      "source": [
        "# Hesham Omar 20200060\n",
        "# Assignment-2\n",
        "# Logistic_Regression_&_Naïve-Bayes_classifier\n",
        "# confusion matrix, cross validation, accuracy, presecion, recall, fmeasure\n",
        "\n",
        "#1 importing libraries\n",
        "import math\n",
        "import numpy as np\n",
        "import matplotlib.pyplot as plt\n",
        "import pandas as pd\n",
        "from sklearn import metrics"
      ]
    },
    {
      "cell_type": "code",
      "source": [
        "#2 importing data\n",
        "#we can import from drive\n",
        "dataset=pd.read_csv('/content/nba_logreg.csv')\n",
        "dataset = dataset.reset_index()\n",
        "#choose the part of data sheet you want to process\n",
        "# we only want to choose 1st and 2nd columns\n",
        "x=dataset.iloc[:,2:21].values\n",
        "y=dataset.iloc[:,21].values\n",
        "print(x)\n",
        "print(y)\n"
      ],
      "metadata": {
        "id": "_1_pzUe984H5",
        "colab": {
          "base_uri": "https://localhost:8080/"
        },
        "outputId": "aa8f3388-8424-4550-be04-fdf91cd1638f"
      },
      "execution_count": 220,
      "outputs": [
        {
          "output_type": "stream",
          "name": "stdout",
          "text": [
            "[[36.  27.4  7.4 ...  0.4  0.4  1.3]\n",
            " [35.  26.9  7.2 ...  1.1  0.5  1.6]\n",
            " [74.  15.3  5.2 ...  0.5  0.3  1. ]\n",
            " ...\n",
            " [43.  12.1  5.4 ...  0.3  0.4  0.9]\n",
            " [52.  12.   4.5 ...  0.4  0.1  0.8]\n",
            " [47.  11.7  4.4 ...  0.7  0.1  0.9]]\n",
            "[0 0 0 ... 0 1 1]\n"
          ]
        }
      ]
    },
    {
      "cell_type": "code",
      "source": [
        "#splitting dataset into train and test\n",
        "from sklearn.model_selection import train_test_split\n",
        "#assign test data size 25%\n",
        "x_train, x_test, y_train, y_test = train_test_split(x,y,test_size=0.3,random_state=0)"
      ],
      "metadata": {
        "id": "nPALambwAFGC"
      },
      "execution_count": 221,
      "outputs": []
    },
    {
      "cell_type": "code",
      "source": [
        "# applying logistic regression\n",
        "from sklearn.linear_model import LogisticRegression\n",
        "regressor = LogisticRegression(max_iter=10000)\n",
        "regressor.fit(x_train,y_train)\n",
        "y_pred= regressor.predict(x_test)"
      ],
      "metadata": {
        "id": "t0Y9Klr4AZlq"
      },
      "execution_count": 222,
      "outputs": []
    },
    {
      "cell_type": "code",
      "source": [
        "# evaluating performance\n",
        "\n",
        "#1 accuracy\n",
        "#importing accuracy score\n",
        "from sklearn.metrics import accuracy_score\n",
        "\n",
        "#printing the accuracy of the model\n",
        "print(accuracy_score(y_pred,y_test))"
      ],
      "metadata": {
        "colab": {
          "base_uri": "https://localhost:8080/"
        },
        "id": "_ByWS_TtHtqE",
        "outputId": "a313533c-c664-4d98-b2ee-6bbe4bcda189"
      },
      "execution_count": 223,
      "outputs": [
        {
          "output_type": "stream",
          "name": "stdout",
          "text": [
            "0.7189054726368159\n"
          ]
        }
      ]
    },
    {
      "cell_type": "code",
      "source": [
        "#2 confusion matrix\n",
        "# importing modules\n",
        "import seaborn as sns # visual analysis for confusion matrix\n",
        "from sklearn.metrics import confusion_matrix\n",
        "\n",
        "# passing actual and predicted values\n",
        "cm = confusion_matrix(y_test, y_pred)\n",
        "\n",
        "# true write data values in each cell of the matrix\n",
        "sns.heatmap(cm, annot=True)\n",
        "#plt.savefig('confusion.png')"
      ],
      "metadata": {
        "colab": {
          "base_uri": "https://localhost:8080/",
          "height": 282
        },
        "id": "uawKOWHIJ4em",
        "outputId": "faa83528-102f-453b-f669-681832764f08"
      },
      "execution_count": 224,
      "outputs": [
        {
          "output_type": "execute_result",
          "data": {
            "text/plain": [
              "<matplotlib.axes._subplots.AxesSubplot at 0x7fb3249dfdf0>"
            ]
          },
          "metadata": {},
          "execution_count": 224
        },
        {
          "output_type": "display_data",
          "data": {
            "text/plain": [
              "<Figure size 432x288 with 2 Axes>"
            ],
            "image/png": "[encoded data removed]"
          },
          "metadata": {
            "needs_background": "light"
          }
        }
      ]
    },
    {
      "cell_type": "code",
      "source": [
        "# --recall\n",
        "from sklearn.metrics import recall_score\n",
        "recall=recall_score(y_test,y_pred)\n",
        "print (f\"Recall: {recall}\")     # fstring"
      ],
      "metadata": {
        "colab": {
          "base_uri": "https://localhost:8080/"
        },
        "id": "nofW0UDyYXeS",
        "outputId": "c51019ff-388b-4d61-9d66-9f5ae2410fa6"
      },
      "execution_count": 225,
      "outputs": [
        {
          "output_type": "stream",
          "name": "stdout",
          "text": [
            "Recall: 0.8458333333333333\n"
          ]
        }
      ]
    },
    {
      "cell_type": "code",
      "source": [
        "# --precision\n",
        "from sklearn.metrics import precision_score\n",
        "precision=precision_score(y_test,y_pred)\n",
        "print (f\"Precision: {precision}\")"
      ],
      "metadata": {
        "colab": {
          "base_uri": "https://localhost:8080/"
        },
        "id": "RnArK5c4ZEY5",
        "outputId": "e78bfe99-58fc-49c0-bb16-a9b8072b38e8"
      },
      "execution_count": 226,
      "outputs": [
        {
          "output_type": "stream",
          "name": "stdout",
          "text": [
            "Precision: 0.7275985663082437\n"
          ]
        }
      ]
    },
    {
      "cell_type": "code",
      "source": [
        "# --F-score, F1-score, F-measure, F1-measure\n",
        "from sklearn.metrics import f1_score\n",
        "f1=f1_score(y_test,y_pred)\n",
        "print (f\"F-score: {f1}\")"
      ],
      "metadata": {
        "colab": {
          "base_uri": "https://localhost:8080/"
        },
        "id": "f0Y4nc83a5FB",
        "outputId": "de01db45-b2a9-42c1-d9d3-74f2f15d9b77"
      },
      "execution_count": 227,
      "outputs": [
        {
          "output_type": "stream",
          "name": "stdout",
          "text": [
            "F-score: 0.7822736030828517\n"
          ]
        }
      ]
    },
    {
      "cell_type": "code",
      "source": [
        "#3 cross validation\n",
        "from sklearn.model_selection import StratifiedKFold\n",
        "num_splits = 5\n",
        "kfold = StratifiedKFold(num_splits, shuffle= True, random_state = 1)\n",
        "train_accs, test_accs = [], []  #create empty lists to store accurcy values\n",
        "for train_index, test_index in kfold.split(x, y):  #Generate indices to split data into training and test set.\n",
        "    x_train, x_test = x[train_index], x[test_index]\n",
        "    y_train, y_test = y[train_index], y[test_index]\n",
        "  \n",
        "    regressor.fit(x_train, y_train)\n",
        "    y_pred_train = regressor.predict(x_train)\n",
        "    y_pred_test = regressor.predict(x_test)\n",
        "    \n",
        "    train_accs.append(metrics.accuracy_score(y_train, y_pred_train) * 100)\n",
        "    test_accs.append(metrics.accuracy_score(y_test, y_pred_test) * 100)\n",
        "ave_train_acc = 0\n",
        "ave_test_acc = 0\n",
        "\n",
        "print(\"\\t\",\"Training_Acc\",\"\\t\",\"\\t\", \"Testing_Acc\")\n",
        "\n",
        "for i in range(num_splits):\n",
        "    print(i,\"\\t\", train_accs[i],\"\\t\", test_accs[i])\n",
        "    \n",
        "    ave_train_acc+= train_accs[i]/num_splits\n",
        "    ave_test_acc+= test_accs[i]/num_splits\n",
        "    \n",
        "print(\"Av\", \"\\t\", ave_train_acc,\"\\t\",\"\\t\", ave_test_acc)"
      ],
      "metadata": {
        "colab": {
          "base_uri": "https://localhost:8080/"
        },
        "id": "RQH-jmpaQvZA",
        "outputId": "0409fd65-6e2b-4a67-8763-a4b21904d71a"
      },
      "execution_count": 228,
      "outputs": [
        {
          "output_type": "stream",
          "name": "stdout",
          "text": [
            "\t Training_Acc \t \t Testing_Acc\n",
            "0 \t 72.01492537313433 \t 69.40298507462687\n",
            "1 \t 72.10820895522389 \t 69.40298507462687\n",
            "2 \t 71.54850746268657 \t 72.01492537313433\n",
            "3 \t 71.73507462686567 \t 71.26865671641791\n",
            "4 \t 72.20149253731343 \t 70.8955223880597\n",
            "Av \t 71.92164179104478 \t \t 70.59701492537313\n"
          ]
        }
      ]
    },
    {
      "cell_type": "code",
      "source": [
        "# applying naive bayes classifier\n",
        "# applying bernouli naive bayes classifier because our target data (y) is binary\n",
        "# importing classifier\n",
        "from sklearn.naive_bayes import BernoulliNB\n",
        "\n",
        "# initializaing the NB\n",
        "classifer = BernoulliNB()\n",
        "\n",
        "# training the model\n",
        "classifer.fit(x_train, y_train)\n",
        "\n",
        "# testing the model\n",
        "y_pred = classifer.predict(x_test)"
      ],
      "metadata": {
        "id": "GfP2t1LIOycb"
      },
      "execution_count": 229,
      "outputs": []
    },
    {
      "cell_type": "code",
      "source": [
        "# evaluating performance \n",
        "\n",
        "#1 accuracy\n",
        "# importinging accuracy score\n",
        "from sklearn.metrics import accuracy_score\n",
        "\n",
        "# printing the accuracy of the model\n",
        "print(accuracy_score(y_pred, y_test))"
      ],
      "metadata": {
        "colab": {
          "base_uri": "https://localhost:8080/"
        },
        "id": "8uaicTIePkz0",
        "outputId": "1755eb90-a9f1-4fbb-884c-961bc724af47"
      },
      "execution_count": 230,
      "outputs": [
        {
          "output_type": "stream",
          "name": "stdout",
          "text": [
            "0.6231343283582089\n"
          ]
        }
      ]
    },
    {
      "cell_type": "code",
      "source": [
        "#2 confusion matrix\n",
        "# importing modules\n",
        "import seaborn as sns # visual analysis for confusion matrix\n",
        "from sklearn.metrics import confusion_matrix\n",
        "\n",
        "# passing actual and predicted values\n",
        "cm = confusion_matrix(y_test, y_pred)\n",
        "\n",
        "# true write data values in each cell of the matrix\n",
        "sns.heatmap(cm, annot=True)\n",
        "#plt.savefig('confusion.png')"
      ],
      "metadata": {
        "colab": {
          "base_uri": "https://localhost:8080/",
          "height": 282
        },
        "id": "XWAA-ITMPyaL",
        "outputId": "d1b5f6f5-a4b5-4d27-c2ee-436cc8a204da"
      },
      "execution_count": 231,
      "outputs": [
        {
          "output_type": "execute_result",
          "data": {
            "text/plain": [
              "<matplotlib.axes._subplots.AxesSubplot at 0x7fb32492b040>"
            ]
          },
          "metadata": {},
          "execution_count": 231
        },
        {
          "output_type": "display_data",
          "data": {
            "text/plain": [
              "<Figure size 432x288 with 2 Axes>"
            ],
            "image/png": "[encoded data removed]"
          },
          "metadata": {
            "needs_background": "light"
          }
        }
      ]
    },
    {
      "cell_type": "code",
      "source": [
        "# --recall\n",
        "from sklearn.metrics import recall_score\n",
        "recall=recall_score(y_test,y_pred)\n",
        "print (f\"Recall: {recall}\")"
      ],
      "metadata": {
        "colab": {
          "base_uri": "https://localhost:8080/"
        },
        "id": "7K1qmCS3Z8cS",
        "outputId": "4c331a10-9380-4232-dc74-2d51f06ba9f2"
      },
      "execution_count": 232,
      "outputs": [
        {
          "output_type": "stream",
          "name": "stdout",
          "text": [
            "Recall: 0.9281437125748503\n"
          ]
        }
      ]
    },
    {
      "cell_type": "code",
      "source": [
        "# --precision\n",
        "from sklearn.metrics import precision_score\n",
        "precision=precision_score(y_test,y_pred)\n",
        "print (f\"Precision: {precision}\")"
      ],
      "metadata": {
        "colab": {
          "base_uri": "https://localhost:8080/"
        },
        "id": "XetGQc9kZ9qB",
        "outputId": "7bf5504f-2290-4341-8cae-07e15637bace"
      },
      "execution_count": 233,
      "outputs": [
        {
          "output_type": "stream",
          "name": "stdout",
          "text": [
            "Precision: 0.6352459016393442\n"
          ]
        }
      ]
    },
    {
      "cell_type": "code",
      "source": [
        "# --F-score, F1-score, F-measure, F1-measure\n",
        "from sklearn.metrics import f1_score\n",
        "f1=f1_score(y_test,y_pred)\n",
        "print (f\"F-score: {f1}\")"
      ],
      "metadata": {
        "colab": {
          "base_uri": "https://localhost:8080/"
        },
        "id": "DsLCOuGsbvUK",
        "outputId": "d8788d9e-e157-4b8f-f991-3accdd3dae00"
      },
      "execution_count": 234,
      "outputs": [
        {
          "output_type": "stream",
          "name": "stdout",
          "text": [
            "F-score: 0.754257907542579\n"
          ]
        }
      ]
    },
    {
      "cell_type": "code",
      "source": [
        "#3 cross validation\n",
        "from sklearn.model_selection import StratifiedKFold\n",
        "num_splits = 5\n",
        "kfold = StratifiedKFold(num_splits, shuffle= True, random_state = 1)\n",
        "train_accs, test_accs = [], []  #create empty lists to store accurcy values\n",
        "for train_index, test_index in kfold.split(x, y):  #Generate indices to split data into training and test set.\n",
        "    x_train, x_test = x[train_index], x[test_index]\n",
        "    y_train, y_test = y[train_index], y[test_index]\n",
        "  \n",
        "    classifer.fit(x_train, y_train)\n",
        "    y_pred_train = classifer.predict(x_train)\n",
        "    y_pred_test = classifer.predict(x_test)\n",
        "    \n",
        "    train_accs.append(metrics.accuracy_score(y_train, y_pred_train) * 100)\n",
        "    test_accs.append(metrics.accuracy_score(y_test, y_pred_test) * 100)\n",
        "ave_train_acc = 0\n",
        "ave_test_acc = 0\n",
        "\n",
        "print(\"\\t\",\"Training_Acc\",\"\\t\",\"\\t\", \"Testing_Acc\")\n",
        "\n",
        "for i in range(num_splits):\n",
        "    print(i,\"\\t\", train_accs[i],\"\\t\", test_accs[i])\n",
        "    \n",
        "    ave_train_acc+= train_accs[i]/num_splits\n",
        "    ave_test_acc+= test_accs[i]/num_splits\n",
        "    \n",
        "print(\"Av\", \"\\t\", ave_train_acc,\"\\t\",\"\\t\", ave_test_acc)"
      ],
      "metadata": {
        "colab": {
          "base_uri": "https://localhost:8080/"
        },
        "id": "TZk7ZsdnR4_Y",
        "outputId": "dbeaff9f-4660-4fbf-c8e3-84cde719527c"
      },
      "execution_count": 235,
      "outputs": [
        {
          "output_type": "stream",
          "name": "stdout",
          "text": [
            "\t Training_Acc \t \t Testing_Acc\n",
            "0 \t 62.31343283582089 \t 66.7910447761194\n",
            "1 \t 64.27238805970148 \t 59.70149253731343\n",
            "2 \t 63.059701492537314 \t 63.80597014925373\n",
            "3 \t 63.24626865671642 \t 63.43283582089553\n",
            "4 \t 63.61940298507462 \t 62.31343283582089\n",
            "Av \t 63.30223880597015 \t \t 63.2089552238806\n"
          ]
        }
      ]
    }
  ]
}